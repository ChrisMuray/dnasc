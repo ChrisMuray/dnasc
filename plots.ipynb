{
 "cells": [
  {
   "cell_type": "code",
   "execution_count": 1,
   "metadata": {},
   "outputs": [],
   "source": [
    "import os\n",
    "import subprocess\n",
    "import json\n",
    "import numpy as np\n",
    "import matplotlib.pyplot as plt"
   ]
  },
  {
   "cell_type": "code",
   "execution_count": 2,
   "metadata": {},
   "outputs": [
    {
     "data": {
      "text/plain": [
       "['big_ssa.py',\n",
       " 'MG_binned.json',\n",
       " 'visualize_distributions.py',\n",
       " 'plots.ipynb',\n",
       " 'get_timebins.py',\n",
       " 'sims_split.json',\n",
       " 'sims.json',\n",
       " 'mS_binned.json',\n",
       " '.ipynb_checkpoints',\n",
       " 'MS_binned.json',\n",
       " 'test_binned.json',\n",
       " 'split.py']"
      ]
     },
     "execution_count": 2,
     "metadata": {},
     "output_type": "execute_result"
    }
   ],
   "source": [
    "os.listdir('.')"
   ]
  },
  {
   "cell_type": "code",
   "execution_count": 3,
   "metadata": {},
   "outputs": [],
   "source": [
    "if os.path.exists(\"test_binned.json\"):\n",
    "    os.remove(\"test_binned.json\")\n",
    "\n",
    "t = np.linspace(0,50, 101).tolist()\n",
    "d = []\n",
    "for i in range(len(t)-1):\n",
    "    d.append(np.random.randint(0, 100, 100).tolist())\n",
    "\n",
    "with open(\"test_binned.json\",'a') as f:\n",
    "    json.dump(t, f)\n",
    "    f.write('\\n')\n",
    "    json.dump(d, f)\n",
    "    f.write('\\n')"
   ]
  },
  {
   "cell_type": "code",
   "execution_count": 4,
   "metadata": {
    "scrolled": true
   },
   "outputs": [],
   "source": [
    "def plot_hists(bins_file):\n",
    "    with open(bins_file,'r') as f:\n",
    "        t = json.loads(f.readline())\n",
    "        mbins = json.loads(f.readline())\n",
    "\n",
    "    for i in range(len(t)-1):\n",
    "        plt.hist(mbins[i],bins=np.arange(25), density=True)\n",
    "        plt.ylim([0, 0.2])\n",
    "        plt.title(\"Distribution from t = {} to {}\".format(t[i], t[i+1]))\n",
    "        plt.show()"
   ]
  }
 ],
 "metadata": {
  "kernelspec": {
   "display_name": "Python 3",
   "language": "python",
   "name": "python3"
  },
  "language_info": {
   "codemirror_mode": {
    "name": "ipython",
    "version": 2
   },
   "file_extension": ".py",
   "mimetype": "text/x-python",
   "name": "python",
   "nbconvert_exporter": "python",
   "pygments_lexer": "ipython2",
   "version": "2.7.15+"
  }
 },
 "nbformat": 4,
 "nbformat_minor": 2
}
